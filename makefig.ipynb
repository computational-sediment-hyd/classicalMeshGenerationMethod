{
 "cells": [
  {
   "cell_type": "code",
   "execution_count": null,
   "id": "108ef8e9",
   "metadata": {},
   "outputs": [],
   "source": [
    "import geopandas as gpd\n",
    "import pandas as pd\n",
    "import numpy as np\n",
    "import geoviews as gv\n",
    "import cartopy.crs as ccrs\n",
    "import hvplot.pandas\n",
    "\n",
    "from shapely.geometry import LineString, Point\n",
    "\n",
    "gv.extension('bokeh',logo=False)"
   ]
  },
  {
   "cell_type": "code",
   "execution_count": null,
   "id": "7c10f774",
   "metadata": {},
   "outputs": [],
   "source": [
    "def mkgdf(filename):\n",
    "    gdf = gpd.read_file(filename, encoding='UTF-8')\n",
    "    \n",
    "    imax = gdf.iloc[-1].I + 1\n",
    "    jmax = gdf.iloc[-1].J + 1\n",
    "    \n",
    "    geo = []\n",
    "    for i in range(imax):\n",
    "        geo.append( LineString( gdf[gdf['I']==i]['geometry'].values ) )\n",
    "        \n",
    "    for j in range(jmax):\n",
    "        geo.append( LineString( gdf[gdf['J']==j]['geometry'].values ) )\n",
    "    \n",
    "    gdfnew = gpd.GeoDataFrame({'geometry': geo\n",
    "                               , 'I': range(len(geo))\n",
    "                              }, crs=gdf.crs)\n",
    "    \n",
    "    return gdfnew"
   ]
  },
  {
   "cell_type": "code",
   "execution_count": null,
   "id": "e4fc0eb4",
   "metadata": {},
   "outputs": [],
   "source": [
    "g0 = mkgdf('MeshPointInitial.geojson').hvplot(label='initial') #, geo=True, projection=True)\n",
    "# g1 = mkgdf('MeshPoint0001.geojson').hvplot(width=500, height=500) #, geo=True, projection=True)\n",
    "# g2 = mkgdf('MeshPoint0005.geojson').hvplot(width=500, height=500) #, geo=True, projection=True)\n",
    "# g3 = mkgdf('MeshPoint0010.geojson').hvplot(width=500, height=500) #, geo=True, projection=True)\n",
    "g4 = mkgdf('MeshPointOpt.geojson').hvplot(label='optimize') #, geo=True, projection=True)"
   ]
  },
  {
   "cell_type": "code",
   "execution_count": null,
   "id": "2cd6c31e",
   "metadata": {},
   "outputs": [],
   "source": [
    "back = gv.WMTS('https://mt1.google.com/vt/lyrs=s&x={X}&y={Y}&z={Z}', name=\"GoogleMapsImagery\")\n",
    "gall = g0*g4*back\n",
    "gallo = gall.options(width=600,height=500)"
   ]
  },
  {
   "cell_type": "code",
   "execution_count": null,
   "id": "3fb4af49",
   "metadata": {},
   "outputs": [],
   "source": [
    "d=hvplot.save(gallo,'map.html')"
   ]
  }
 ],
 "metadata": {
  "kernelspec": {
   "display_name": "Python 3",
   "language": "python",
   "name": "python3"
  },
  "language_info": {
   "codemirror_mode": {
    "name": "ipython",
    "version": 3
   },
   "file_extension": ".py",
   "mimetype": "text/x-python",
   "name": "python",
   "nbconvert_exporter": "python",
   "pygments_lexer": "ipython3",
   "version": "3.7.10"
  },
  "toc": {
   "base_numbering": 1,
   "nav_menu": {},
   "number_sections": true,
   "sideBar": true,
   "skip_h1_title": false,
   "title_cell": "Table of Contents",
   "title_sidebar": "Contents",
   "toc_cell": false,
   "toc_position": {},
   "toc_section_display": true,
   "toc_window_display": false
  }
 },
 "nbformat": 4,
 "nbformat_minor": 5
}
