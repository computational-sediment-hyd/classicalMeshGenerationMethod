{
 "cells": [
  {
   "cell_type": "code",
   "execution_count": null,
   "id": "a461c091",
   "metadata": {},
   "outputs": [],
   "source": [
    "import geopandas as gpd\n",
    "import numpy as np\n",
    "import geoviews as gv\n",
    "import cartopy.crs as ccrs\n",
    "import hvplot.pandas\n",
    "\n",
    "from shapely.geometry import LineString, Point\n",
    "from scipy.interpolate import splev, splrep, BSpline\n",
    "\n",
    "gv.extension('bokeh',logo=False)"
   ]
  },
  {
   "cell_type": "markdown",
   "id": "133793d6",
   "metadata": {},
   "source": [
    "# module "
   ]
  },
  {
   "cell_type": "markdown",
   "id": "141f619e",
   "metadata": {},
   "source": [
    "https://computational-sediment-hyd.hatenablog.jp/entry/2022/05/29/220000"
   ]
  },
  {
   "cell_type": "code",
   "execution_count": null,
   "id": "c9d43834",
   "metadata": {},
   "outputs": [],
   "source": [
    "def chaikins_corner_cutting(coords, refinements=5):\n",
    "    coords = np.array(coords)\n",
    "\n",
    "    for _ in range(refinements):\n",
    "        L = coords.repeat(2, axis=0)\n",
    "        R = np.empty_like(L)\n",
    "        R[0] = L[0]\n",
    "        R[2::2] = L[1:-1:2]\n",
    "        R[1:-1:2] = L[2::2]\n",
    "        R[-1] = L[-1]\n",
    "        coords = L * 0.75 + R * 0.25\n",
    "\n",
    "    return coords"
   ]
  },
  {
   "cell_type": "markdown",
   "id": "fe2a8e5b",
   "metadata": {},
   "source": [
    "# main "
   ]
  },
  {
   "cell_type": "code",
   "execution_count": null,
   "id": "973ac60d",
   "metadata": {},
   "outputs": [],
   "source": [
    "gdf = gpd.read_file('line.geojson', encoding='UTF-8')"
   ]
  },
  {
   "cell_type": "code",
   "execution_count": null,
   "id": "35a68e69",
   "metadata": {},
   "outputs": [],
   "source": [
    "cline = gdf[gdf['name'] == 'Cline']['geometry'].squeeze()\n",
    "clines = chaikins_corner_cutting(cline.coords[:], 5)\n",
    "clines = LineString(clines)\n",
    "\n",
    "lline = gdf[gdf['name'] == 'Lline']['geometry'].squeeze()\n",
    "llines = chaikins_corner_cutting(lline.coords[:], 5)\n",
    "llines = LineString(llines)\n",
    "\n",
    "rline = gdf[gdf['name'] == 'Rline']['geometry'].squeeze()\n",
    "rlines = chaikins_corner_cutting(rline.coords[:], 5)\n",
    "rlines = LineString(rlines)"
   ]
  },
  {
   "cell_type": "code",
   "execution_count": null,
   "id": "a5760819",
   "metadata": {},
   "outputs": [],
   "source": [
    "gdft = gdf.copy()"
   ]
  },
  {
   "cell_type": "code",
   "execution_count": null,
   "id": "6b36ab6b",
   "metadata": {},
   "outputs": [],
   "source": [
    "gdft.loc[(gdft[gdft['name'] == 'Cline'].index[0]),'geometry'] = clines\n",
    "gdft.loc[(gdft[gdft['name'] == 'Lline'].index[0]),'geometry'] = llines\n",
    "gdft.loc[(gdft[gdft['name'] == 'Rline'].index[0]),'geometry'] = rlines"
   ]
  },
  {
   "cell_type": "code",
   "execution_count": null,
   "id": "807a77f9",
   "metadata": {},
   "outputs": [],
   "source": [
    "out = gdft.to_file(\"linesmooth.geojson\", driver='GeoJSON')\n",
    "del out"
   ]
  },
  {
   "cell_type": "markdown",
   "id": "aa9d977f",
   "metadata": {},
   "source": [
    "#  check"
   ]
  },
  {
   "cell_type": "code",
   "execution_count": null,
   "id": "1d9bf952",
   "metadata": {},
   "outputs": [],
   "source": [
    "g0 = gdf.hvplot(label='initial')\n",
    "g1 = gdft.hvplot(label='smoothing')\n",
    "\n",
    "back = gv.WMTS('https://mt1.google.com/vt/lyrs=s&x={X}&y={Y}&z={Z}', name=\"GoogleMapsImagery\")\n",
    "gall = g0*g1*back\n",
    "gallo = gall.options(width=600,height=500)"
   ]
  },
  {
   "cell_type": "code",
   "execution_count": null,
   "id": "2a971d1e",
   "metadata": {},
   "outputs": [],
   "source": [
    "gallo"
   ]
  }
 ],
 "metadata": {
  "kernelspec": {
   "display_name": "Python 3",
   "language": "python",
   "name": "python3"
  },
  "language_info": {
   "codemirror_mode": {
    "name": "ipython",
    "version": 3
   },
   "file_extension": ".py",
   "mimetype": "text/x-python",
   "name": "python",
   "nbconvert_exporter": "python",
   "pygments_lexer": "ipython3",
   "version": "3.7.10"
  },
  "toc": {
   "base_numbering": 1,
   "nav_menu": {},
   "number_sections": true,
   "sideBar": true,
   "skip_h1_title": false,
   "title_cell": "Table of Contents",
   "title_sidebar": "Contents",
   "toc_cell": false,
   "toc_position": {},
   "toc_section_display": true,
   "toc_window_display": false
  }
 },
 "nbformat": 4,
 "nbformat_minor": 5
}
