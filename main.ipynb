{
 "cells": [
  {
   "cell_type": "code",
   "execution_count": null,
   "id": "f6b93cca",
   "metadata": {},
   "outputs": [],
   "source": [
    "import geopandas as gpd\n",
    "import pandas as pd\n",
    "import numpy as np\n",
    "import geoviews as gv\n",
    "import holoviews as hv\n",
    "import hvplot.pandas\n",
    "import cartopy.crs as ccrs\n",
    "\n",
    "from shapely.geometry import LineString, Point\n",
    "from scipy.interpolate import splev, splrep\n",
    "\n",
    "gv.extension('bokeh')\n",
    "hv.extension('bokeh')"
   ]
  },
  {
   "cell_type": "markdown",
   "id": "c094ed6b",
   "metadata": {},
   "source": [
    "# 端点を結ぶオブジェクトからメッシュの初期配置を設定\n",
    "\n",
    "横断方向に15分割"
   ]
  },
  {
   "cell_type": "code",
   "execution_count": null,
   "id": "4a55797d",
   "metadata": {},
   "outputs": [],
   "source": [
    "Jline = gpd.read_file('JLines.geojson', encoding='UTF-8')"
   ]
  },
  {
   "cell_type": "code",
   "execution_count": null,
   "id": "802fa3d4",
   "metadata": {},
   "outputs": [],
   "source": [
    "listL = Jline.geometry.values\n",
    "\n",
    "ny = 15\n",
    "x = np.zeros((len(listL), ny+1))\n",
    "y = np.zeros_like(x)\n",
    "\n",
    "for i, l  in enumerate(listL):\n",
    "    dy = l.length/ny\n",
    "    for j in range(ny+1):\n",
    "        pp = l.interpolate(j*dy) \n",
    "        x[i,j] = pp.x\n",
    "        y[i,j] = pp.y"
   ]
  },
  {
   "cell_type": "code",
   "execution_count": null,
   "id": "84c15c63",
   "metadata": {},
   "outputs": [],
   "source": [
    "parr = []\n",
    "Iarr = []\n",
    "Jarr = []\n",
    "for i in range(x.shape[0]):\n",
    "    for j in range(x.shape[1]):\n",
    "        parr.append( Point(x[i,j],y[i,j]) )\n",
    "        Iarr.append(i)\n",
    "        Jarr.append(j)\n",
    "\n",
    "gdfnew = gpd.GeoDataFrame({'geometry': parr , 'I': Iarr, 'J': Jarr })\n",
    "gdfnew.crs = Jline.crs\n",
    "out = gdfnew.to_file(\"MeshPointInitial.geojson\", driver='GeoJSON')\n",
    "del out"
   ]
  },
  {
   "cell_type": "markdown",
   "id": "8c427821",
   "metadata": {},
   "source": [
    "# ラプラス方程式"
   ]
  },
  {
   "cell_type": "code",
   "execution_count": null,
   "id": "5dfc1d69",
   "metadata": {},
   "outputs": [],
   "source": [
    "def relaxation(xi,yi,omega=1.9, nit=300):\n",
    "    dxi, deta = float(1), float(1)\n",
    "    x = xi.copy()\n",
    "    y = yi.copy()\n",
    "    outerr = []\n",
    "    for it in range(nit):\n",
    "        xn = x.copy()\n",
    "        yn = y.copy()\n",
    "        err = []\n",
    "        for i in range(1, x.shape[0]-1):\n",
    "            for j in range(1, x.shape[1]-1):\n",
    "                alfa = ((x[i,j+1]-x[i,j-1])/2/deta)**2 + ((y[i,j+1]-y[i,j-1])/2/deta)**2\n",
    "                beta = (x[i+1,j]-x[i-1,j])/2/dxi*(x[i,j+1]-x[i,j-1])/2/deta + (y[i+1,j]-y[i-1,j])/2./dxi*(y[i,j+1]-y[i,j-1])/2/deta\n",
    "                gamma = ((x[i+1,j]-x[i-1,j])/2/dxi)**2 + ((y[i+1,j]-y[i-1,j])/2/dxi)**2.\n",
    "                \n",
    "                # SOR\n",
    "                dd = (alfa*(x[i+1,j]+x[i-1,j])/dxi**2 \\\n",
    "                          - 2*beta*(x[i+1,j+1]-x[i-1,j+1]-(x[i+1,j-1]-x[i-1,j-1]))/4/dxi/deta \\\n",
    "                          + gamma*(x[i,j+1]+x[i,j-1])/deta**2)/(2*alfa/dxi**2+2*gamma/deta**2) \n",
    "                \n",
    "                err.append( dd - x[i,j] )\n",
    "                x[i,j] += omega*(dd - x[i,j])\n",
    "                \n",
    "                dd = (alfa*(y[i+1,j]+y[i-1,j])/dxi**2 \\\n",
    "                          - 2*beta*(y[i+1,j+1]-y[i-1,j+1]-(y[i+1,j-1]-y[i-1,j-1]))/4/dxi/deta \\\n",
    "                          + gamma*(y[i,j+1]+y[i,j-1])/deta**2)/(2*alfa/dxi**2+2*gamma/deta**2)\n",
    "                \n",
    "                err.append( dd - y[i,j] )\n",
    "                y[i,j] += omega*(dd - y[i,j])\n",
    "        \n",
    "        serr = np.sqrt( np.sum(np.array(err)**2) )\n",
    "        print(serr)\n",
    "        outerr.append(serr)\n",
    "        \n",
    "    return x,y,outerr\n",
    "\n",
    "#     if (it == 1) or (it == 5) or (it == 10):\n",
    "#         parr = []\n",
    "#         Iarr = []\n",
    "#         Jarr = []\n",
    "#         for i in range(x.shape[0]):\n",
    "#             for j in range(x.shape[1]):\n",
    "#                 parr.append( Point(x[i,j],y[i,j]) )\n",
    "#                 Iarr.append(i)\n",
    "#                 Jarr.append(j)\n",
    "                \n",
    "#         gdfnew = gpd.GeoDataFrame({'geometry': parr , 'I': Iarr, 'J': Jarr })\n",
    "#         gdfnew.crs = Jline.crs\n",
    "#         out = gdfnew.to_file(\"MeshPoint\" + str(it).zfill(4) + \".geojson\", driver='GeoJSON')\n",
    "#         del out"
   ]
  },
  {
   "cell_type": "code",
   "execution_count": null,
   "id": "d60ae80f",
   "metadata": {},
   "outputs": [],
   "source": [
    "xn, yn, err = relaxation(x,y,omega=1.7)"
   ]
  },
  {
   "cell_type": "code",
   "execution_count": null,
   "id": "a92b45b8",
   "metadata": {},
   "outputs": [],
   "source": [
    "gdfout = gpd.GeoDataFrame({'geometry': [Point(xn[i,j],yn[i,j]) for i in range(xn.shape[0]) for j in range(xn.shape[1])]\n",
    "                           , 'I': [i for i in range(xn.shape[0]) for j in range(xn.shape[1])]\n",
    "                           , 'J': [j for i in range(xn.shape[0]) for j in range(xn.shape[1])]\n",
    "                          }, crs=Jline.crs)\n",
    "\n",
    "out = gdfout.to_file(\"MeshPointOpt.geojson\", driver='GeoJSON')"
   ]
  },
  {
   "cell_type": "markdown",
   "id": "3eedb03f",
   "metadata": {},
   "source": [
    "#  check"
   ]
  },
  {
   "cell_type": "code",
   "execution_count": null,
   "id": "3e627423",
   "metadata": {},
   "outputs": [],
   "source": [
    "g0 = gdfnew.hvplot(label='initial')\n",
    "g1 = gdfout.hvplot(label='optimized')\n",
    "back = gv.WMTS('https://mt1.google.com/vt/lyrs=s&x={X}&y={Y}&z={Z}', name=\"GoogleMapsImagery\")\n",
    "gall = g0*g1*back\n",
    "gallo = gall.options(width=600,height=500)\n",
    "gallo"
   ]
  },
  {
   "cell_type": "markdown",
   "id": "a9d66394",
   "metadata": {},
   "source": [
    "# test:relaxation method"
   ]
  },
  {
   "cell_type": "code",
   "execution_count": null,
   "id": "bca65b7d",
   "metadata": {},
   "outputs": [],
   "source": [
    "xn, yn, err = relaxation(x,y,omega=1.7)\n",
    "xn2, yn2, err2 = relaxation(x,y,omega=1.0)"
   ]
  },
  {
   "cell_type": "code",
   "execution_count": null,
   "id": "2bf94ea0",
   "metadata": {},
   "outputs": [],
   "source": [
    "g = hv.Curve(err, label='SOR:omega=1.7') * hv.Curve(err2, label='Gauss-Seidel')\n",
    "go = g.options(logy=True,xlabel='iteration', ylabel='error',width=400, height=350, show_grid=True)\n",
    "go"
   ]
  },
  {
   "cell_type": "code",
   "execution_count": null,
   "id": "1feff5da",
   "metadata": {},
   "outputs": [],
   "source": [
    "hvplot.save(go,'compareRelax.html')"
   ]
  }
 ],
 "metadata": {
  "kernelspec": {
   "display_name": "Python 3",
   "language": "python",
   "name": "python3"
  },
  "language_info": {
   "codemirror_mode": {
    "name": "ipython",
    "version": 3
   },
   "file_extension": ".py",
   "mimetype": "text/x-python",
   "name": "python",
   "nbconvert_exporter": "python",
   "pygments_lexer": "ipython3",
   "version": "3.7.10"
  },
  "toc": {
   "base_numbering": 1,
   "nav_menu": {},
   "number_sections": true,
   "sideBar": true,
   "skip_h1_title": false,
   "title_cell": "Table of Contents",
   "title_sidebar": "Contents",
   "toc_cell": false,
   "toc_position": {},
   "toc_section_display": true,
   "toc_window_display": false
  }
 },
 "nbformat": 4,
 "nbformat_minor": 5
}
