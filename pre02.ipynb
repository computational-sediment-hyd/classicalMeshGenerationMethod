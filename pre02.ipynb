{
 "cells": [
  {
   "cell_type": "code",
   "execution_count": null,
   "id": "a461c091",
   "metadata": {},
   "outputs": [],
   "source": [
    "import geopandas as gpd\n",
    "import numpy as np\n",
    "import geoviews as gv\n",
    "import hvplot.pandas\n",
    "\n",
    "from shapely.geometry import LineString, Point\n",
    "from scipy.interpolate import splev, splrep, BSpline\n",
    "\n",
    "gv.extension('bokeh')"
   ]
  },
  {
   "cell_type": "markdown",
   "id": "133793d6",
   "metadata": {},
   "source": [
    "# module "
   ]
  },
  {
   "cell_type": "markdown",
   "id": "cd6db8bc",
   "metadata": {},
   "source": [
    "## 境界線上の格子点を設定\n",
    "線上の格子点の配置を決める。\n",
    "河道中心線上に等間隔に配置した点から境界線上への垂線との交点を一次配置として設定する。"
   ]
  },
  {
   "cell_type": "code",
   "execution_count": null,
   "id": "cb9d9bb1",
   "metadata": {},
   "outputs": [],
   "source": [
    "def mkboundaryPoints2(points, tgline, side='Left', length=500):\n",
    "    outPoint = []\n",
    "    outLine = []\n",
    "    \n",
    "    porg = points[0]\n",
    "    cp = Point(tgline.coords[:][0])\n",
    "    outLine.append(LineString([porg, cp]))\n",
    "    outPoint.append(cp)\n",
    "    \n",
    "    for i in range(1, len(points)-1):\n",
    "        porg = points[i]\n",
    "        p1 = points[i+1]\n",
    "        p0 = points[i-1]\n",
    "        \n",
    "        vec = [(p1.x - p0.x), (p1.y - p0.y)]\n",
    "        evec = vec / np.linalg.norm(vec)\n",
    "        th = 90 if side=='Left' else -90 if side=='Right' else 'error'\n",
    "    \n",
    "        theta =  float(th)/float(180)*np.pi\n",
    "        rotvx = np.cos(theta)*evec[0] - np.sin(theta)*evec[1]\n",
    "        rotvy = np.sin(theta)*evec[0] + np.cos(theta)*evec[1]\n",
    "        evec = np.array([rotvx, rotvy])\n",
    "        \n",
    "        vec1 = [(cp.x - porg.x), (cp.y - porg.y)]\n",
    "        evec1 = vec1 / np.linalg.norm(vec1)\n",
    "        dot_product = np.dot(evec, evec1)\n",
    "        angle = np.arccos(dot_product)\n",
    "        evecZ = np.append(evec,0)\n",
    "        evec1Z = np.append(evec1,0)\n",
    "        nor = np.cross(evecZ, evec1Z)\n",
    "        deg = np.sign(nor[2]) * angle/np.pi*float(180)\n",
    "        print(i, deg)\n",
    "#         if deg < 0:\n",
    "#             thstart = float(0)\n",
    "#         else:\n",
    "#             thstart = deg\n",
    "            \n",
    "        thstart = deg\n",
    "        thend = -90 if side=='Left' else 90 if side=='Right' else 'error'\n",
    "        dth = -0.1 if side=='Left' else 0.1 if side=='Right' else 'error'\n",
    "            \n",
    "        # 0.1度づつ回転させて最も直交に近い点を抽出\n",
    "        cpoint = []\n",
    "        cangle = []\n",
    "        for th in np.arange(thstart, thend, dth):\n",
    "            theta =  float(th)/float(180)*np.pi\n",
    "            rotvx = np.cos(theta)*evec[0] - np.sin(theta)*evec[1]\n",
    "            rotvy = np.sin(theta)*evec[0] + np.cos(theta)*evec[1]\n",
    "            rotevec = np.array([rotvx, rotvy])\n",
    "            xl = np.array([np.array(porg.coords[:][0]), porg + length*rotevec])\n",
    "            Ls = LineString(xl)\n",
    "            \n",
    "            if tgline.intersects(Ls):\n",
    "                pcross = tgline.intersection(Ls)\n",
    "                if pcross.geom_type == 'MultiPoint' :\n",
    "                    cp = pcross[0]\n",
    "                    cpoint.append(cp)\n",
    "                    lproj = tgline.project(cp)\n",
    "                else:\n",
    "                    cp = pcross\n",
    "                    cpoint.append(cp)\n",
    "                    lproj = tgline.project(cp)\n",
    "                \n",
    "                dL = 0.1\n",
    "                ps1 = tgline.interpolate(lproj + dL)\n",
    "                ps0 = tgline.interpolate(lproj - dL)\n",
    "                vecs = [(ps1.x - ps0.x), (ps1.y - ps0.y)]\n",
    "                evecs = vecs / np.linalg.norm(vecs)\n",
    "                \n",
    "                dot_product = np.dot(rotevec, evecs)\n",
    "                angle = np.arccos(dot_product)\n",
    "                deg = angle/np.pi*float(180)\n",
    "                cangle.append(deg)\n",
    "                \n",
    "                if np.abs(deg-90)<0.1 : break\n",
    "        else:\n",
    "            ind = np.abs( np.array(cangle) - 90).argmin()\n",
    "            cp = cpoint[ind]\n",
    "            \n",
    "        outLine.append(LineString([porg, cp]))\n",
    "        outPoint.append(cp)\n",
    "    \n",
    "    porg = points[-1]\n",
    "    cp = Point(tgline.coords[:][-1])\n",
    "    outLine.append(LineString([porg, cp]))\n",
    "    outPoint.append(cp)\n",
    "    \n",
    "    return outPoint, outLine"
   ]
  },
  {
   "cell_type": "markdown",
   "id": "c8462b58",
   "metadata": {},
   "source": [
    "## 再配置\n",
    "\n",
    "隣り合う2点との距離が同程度になるように格子点を再配置する。"
   ]
  },
  {
   "cell_type": "code",
   "execution_count": null,
   "id": "23ed6e59",
   "metadata": {},
   "outputs": [],
   "source": [
    "def relocate(tgpoints, tgline, nn=5):\n",
    "    P = tgpoints.copy()\n",
    "    for _ in range(nn):\n",
    "        Pout = P.copy()\n",
    "    \n",
    "        for i in range(1, len(P)-1):\n",
    "            L0 = tgline.project(Pout[i-1])\n",
    "            L1 = tgline.project(Pout[i]) \n",
    "            L2 = tgline.project(Pout[i+1])\n",
    "            \n",
    "            Pout[i] = tgline.interpolate(0.5*L2 + 0.5*L0)\n",
    "        \n",
    "        P = Pout.copy()\n",
    "        \n",
    "    return P"
   ]
  },
  {
   "cell_type": "markdown",
   "id": "fe2a8e5b",
   "metadata": {},
   "source": [
    "# main "
   ]
  },
  {
   "cell_type": "markdown",
   "id": "4f636faf",
   "metadata": {},
   "source": [
    "## common"
   ]
  },
  {
   "cell_type": "code",
   "execution_count": null,
   "id": "973ac60d",
   "metadata": {},
   "outputs": [],
   "source": [
    "gdf = gpd.read_file('linesmooth.geojson', encoding='UTF-8')"
   ]
  },
  {
   "cell_type": "code",
   "execution_count": null,
   "id": "35a68e69",
   "metadata": {},
   "outputs": [],
   "source": [
    "clines = gdf[gdf['name'] == 'Cline']['geometry'].squeeze()\n",
    "llines = gdf[gdf['name'] == 'Lline']['geometry'].squeeze()\n",
    "rlines = gdf[gdf['name'] == 'Rline']['geometry'].squeeze()"
   ]
  },
  {
   "cell_type": "code",
   "execution_count": null,
   "id": "02dace38",
   "metadata": {},
   "outputs": [],
   "source": [
    "L = np.linspace(0, clines.length, 100, endpoint=True)\n",
    "points = [clines.interpolate(ll) for ll in L]"
   ]
  },
  {
   "cell_type": "markdown",
   "id": "e403c0f6",
   "metadata": {},
   "source": [
    "##  set mesh-point on boundary line"
   ]
  },
  {
   "cell_type": "code",
   "execution_count": null,
   "id": "dfdf1daa",
   "metadata": {},
   "outputs": [],
   "source": [
    "# left-side\n",
    "LP, L = mkboundaryPoints2(points, llines, side='Left', length=200)\n",
    "LeftP = relocate(LP, llines, 5)\n",
    "\n",
    "# right-side\n",
    "RP, L = mkboundaryPoints2(points, rlines, side='Right', length=200)\n",
    "RightP = relocate(RP, rlines, 5)"
   ]
  },
  {
   "cell_type": "code",
   "execution_count": null,
   "id": "46289c4a",
   "metadata": {},
   "outputs": [],
   "source": [
    "LL  = [LineString([p0, p1]) for p0, p1 in zip(LeftP, RightP)]\n",
    "gdfnew = gpd.GeoDataFrame({'geometry':LL, 'I': list(range(len(LL)))})\n",
    "gdfnew.crs = gdf.crs\n",
    "out = gdfnew.to_file(\"JLines.geojson\", driver='GeoJSON')\n",
    "del out"
   ]
  },
  {
   "cell_type": "markdown",
   "id": "8677f9df",
   "metadata": {},
   "source": [
    "#  check"
   ]
  },
  {
   "cell_type": "code",
   "execution_count": null,
   "id": "dad0adc1",
   "metadata": {},
   "outputs": [],
   "source": [
    "g0 = gdfnew.hvplot()\n",
    "back = gv.WMTS('https://mt1.google.com/vt/lyrs=s&x={X}&y={Y}&z={Z}', name=\"GoogleMapsImagery\")\n",
    "gall = g0*back\n",
    "gallo = gall.options(width=600,height=500)"
   ]
  },
  {
   "cell_type": "code",
   "execution_count": null,
   "id": "70e76562",
   "metadata": {},
   "outputs": [],
   "source": [
    "gallo"
   ]
  }
 ],
 "metadata": {
  "kernelspec": {
   "display_name": "Python 3",
   "language": "python",
   "name": "python3"
  },
  "language_info": {
   "codemirror_mode": {
    "name": "ipython",
    "version": 3
   },
   "file_extension": ".py",
   "mimetype": "text/x-python",
   "name": "python",
   "nbconvert_exporter": "python",
   "pygments_lexer": "ipython3",
   "version": "3.7.10"
  },
  "toc": {
   "base_numbering": 1,
   "nav_menu": {},
   "number_sections": true,
   "sideBar": true,
   "skip_h1_title": false,
   "title_cell": "Table of Contents",
   "title_sidebar": "Contents",
   "toc_cell": false,
   "toc_position": {},
   "toc_section_display": true,
   "toc_window_display": false
  }
 },
 "nbformat": 4,
 "nbformat_minor": 5
}
